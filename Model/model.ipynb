{
 "cells": [
  {
   "cell_type": "code",
   "execution_count": 17,
   "metadata": {},
   "outputs": [],
   "source": [
    "import pandas as pd\n",
    "from imblearn.over_sampling import SMOTE\n",
    "from imblearn.under_sampling import RandomUnderSampler\n",
    "from sklearn.decomposition import PCA\n",
    "from imblearn.pipeline import Pipeline\n",
    "from sklearn.model_selection import train_test_split, GridSearchCV, StratifiedKFold\n",
    "from sklearn.metrics import classification_report, confusion_matrix\n",
    "from sklearn.svm import SVC\n",
    "import pickle\n",
    "import seaborn as sns"
   ]
  },
  {
   "cell_type": "code",
   "execution_count": 18,
   "metadata": {},
   "outputs": [
    {
     "data": {
      "text/html": [
       "<div>\n",
       "<style scoped>\n",
       "    .dataframe tbody tr th:only-of-type {\n",
       "        vertical-align: middle;\n",
       "    }\n",
       "\n",
       "    .dataframe tbody tr th {\n",
       "        vertical-align: top;\n",
       "    }\n",
       "\n",
       "    .dataframe thead th {\n",
       "        text-align: right;\n",
       "    }\n",
       "</style>\n",
       "<table border=\"1\" class=\"dataframe\">\n",
       "  <thead>\n",
       "    <tr style=\"text-align: right;\">\n",
       "      <th></th>\n",
       "      <th>Class</th>\n",
       "      <th>Point2_X</th>\n",
       "      <th>Point2_Y</th>\n",
       "      <th>Point3_X</th>\n",
       "      <th>Point3_Y</th>\n",
       "      <th>Point4_X</th>\n",
       "      <th>Point4_Y</th>\n",
       "      <th>Point5_X</th>\n",
       "      <th>Point5_Y</th>\n",
       "      <th>Point6_X</th>\n",
       "      <th>...</th>\n",
       "      <th>Point17_X</th>\n",
       "      <th>Point17_Y</th>\n",
       "      <th>Point18_X</th>\n",
       "      <th>Point18_Y</th>\n",
       "      <th>Point19_X</th>\n",
       "      <th>Point19_Y</th>\n",
       "      <th>Point20_X</th>\n",
       "      <th>Point20_Y</th>\n",
       "      <th>Point21_X</th>\n",
       "      <th>Point21_Y</th>\n",
       "    </tr>\n",
       "  </thead>\n",
       "  <tbody>\n",
       "    <tr>\n",
       "      <th>0</th>\n",
       "      <td>A</td>\n",
       "      <td>0.113495</td>\n",
       "      <td>-0.082870</td>\n",
       "      <td>0.181338</td>\n",
       "      <td>-0.214224</td>\n",
       "      <td>0.191743</td>\n",
       "      <td>-0.324273</td>\n",
       "      <td>0.176989</td>\n",
       "      <td>-0.408945</td>\n",
       "      <td>0.088995</td>\n",
       "      <td>...</td>\n",
       "      <td>0.009401</td>\n",
       "      <td>-0.114414</td>\n",
       "      <td>-0.131490</td>\n",
       "      <td>-0.251106</td>\n",
       "      <td>-0.068488</td>\n",
       "      <td>-0.264602</td>\n",
       "      <td>-0.054249</td>\n",
       "      <td>-0.181575</td>\n",
       "      <td>-0.055466</td>\n",
       "      <td>-0.128653</td>\n",
       "    </tr>\n",
       "    <tr>\n",
       "      <th>1</th>\n",
       "      <td>A</td>\n",
       "      <td>0.117747</td>\n",
       "      <td>-0.071520</td>\n",
       "      <td>0.192580</td>\n",
       "      <td>-0.206726</td>\n",
       "      <td>0.203706</td>\n",
       "      <td>-0.324133</td>\n",
       "      <td>0.199602</td>\n",
       "      <td>-0.415938</td>\n",
       "      <td>0.101678</td>\n",
       "      <td>...</td>\n",
       "      <td>0.026212</td>\n",
       "      <td>-0.104201</td>\n",
       "      <td>-0.124266</td>\n",
       "      <td>-0.265737</td>\n",
       "      <td>-0.052779</td>\n",
       "      <td>-0.257111</td>\n",
       "      <td>-0.040167</td>\n",
       "      <td>-0.167494</td>\n",
       "      <td>-0.040408</td>\n",
       "      <td>-0.110646</td>\n",
       "    </tr>\n",
       "    <tr>\n",
       "      <th>2</th>\n",
       "      <td>A</td>\n",
       "      <td>0.074529</td>\n",
       "      <td>-0.056717</td>\n",
       "      <td>0.124976</td>\n",
       "      <td>-0.161563</td>\n",
       "      <td>0.136414</td>\n",
       "      <td>-0.249405</td>\n",
       "      <td>0.132418</td>\n",
       "      <td>-0.320011</td>\n",
       "      <td>0.076592</td>\n",
       "      <td>...</td>\n",
       "      <td>-0.032550</td>\n",
       "      <td>-0.106327</td>\n",
       "      <td>-0.095463</td>\n",
       "      <td>-0.181809</td>\n",
       "      <td>-0.096761</td>\n",
       "      <td>-0.221975</td>\n",
       "      <td>-0.089207</td>\n",
       "      <td>-0.164900</td>\n",
       "      <td>-0.080041</td>\n",
       "      <td>-0.118804</td>\n",
       "    </tr>\n",
       "    <tr>\n",
       "      <th>3</th>\n",
       "      <td>A</td>\n",
       "      <td>0.116533</td>\n",
       "      <td>-0.095569</td>\n",
       "      <td>0.184809</td>\n",
       "      <td>-0.251257</td>\n",
       "      <td>0.181613</td>\n",
       "      <td>-0.380073</td>\n",
       "      <td>0.169156</td>\n",
       "      <td>-0.485542</td>\n",
       "      <td>0.071329</td>\n",
       "      <td>...</td>\n",
       "      <td>-0.001719</td>\n",
       "      <td>-0.126659</td>\n",
       "      <td>-0.181320</td>\n",
       "      <td>-0.265591</td>\n",
       "      <td>-0.107658</td>\n",
       "      <td>-0.301670</td>\n",
       "      <td>-0.078174</td>\n",
       "      <td>-0.204446</td>\n",
       "      <td>-0.072207</td>\n",
       "      <td>-0.136792</td>\n",
       "    </tr>\n",
       "    <tr>\n",
       "      <th>4</th>\n",
       "      <td>A</td>\n",
       "      <td>0.115344</td>\n",
       "      <td>-0.095472</td>\n",
       "      <td>0.185029</td>\n",
       "      <td>-0.257217</td>\n",
       "      <td>0.183975</td>\n",
       "      <td>-0.386701</td>\n",
       "      <td>0.171799</td>\n",
       "      <td>-0.489619</td>\n",
       "      <td>0.075638</td>\n",
       "      <td>...</td>\n",
       "      <td>-0.000573</td>\n",
       "      <td>-0.125995</td>\n",
       "      <td>-0.177708</td>\n",
       "      <td>-0.268218</td>\n",
       "      <td>-0.108086</td>\n",
       "      <td>-0.303106</td>\n",
       "      <td>-0.079395</td>\n",
       "      <td>-0.207734</td>\n",
       "      <td>-0.070093</td>\n",
       "      <td>-0.138574</td>\n",
       "    </tr>\n",
       "  </tbody>\n",
       "</table>\n",
       "<p>5 rows × 41 columns</p>\n",
       "</div>"
      ],
      "text/plain": [
       "  Class  Point2_X  Point2_Y  Point3_X  Point3_Y  Point4_X  Point4_Y  Point5_X  \\\n",
       "0     A  0.113495 -0.082870  0.181338 -0.214224  0.191743 -0.324273  0.176989   \n",
       "1     A  0.117747 -0.071520  0.192580 -0.206726  0.203706 -0.324133  0.199602   \n",
       "2     A  0.074529 -0.056717  0.124976 -0.161563  0.136414 -0.249405  0.132418   \n",
       "3     A  0.116533 -0.095569  0.184809 -0.251257  0.181613 -0.380073  0.169156   \n",
       "4     A  0.115344 -0.095472  0.185029 -0.257217  0.183975 -0.386701  0.171799   \n",
       "\n",
       "   Point5_Y  Point6_X  ...  Point17_X  Point17_Y  Point18_X  Point18_Y  \\\n",
       "0 -0.408945  0.088995  ...   0.009401  -0.114414  -0.131490  -0.251106   \n",
       "1 -0.415938  0.101678  ...   0.026212  -0.104201  -0.124266  -0.265737   \n",
       "2 -0.320011  0.076592  ...  -0.032550  -0.106327  -0.095463  -0.181809   \n",
       "3 -0.485542  0.071329  ...  -0.001719  -0.126659  -0.181320  -0.265591   \n",
       "4 -0.489619  0.075638  ...  -0.000573  -0.125995  -0.177708  -0.268218   \n",
       "\n",
       "   Point19_X  Point19_Y  Point20_X  Point20_Y  Point21_X  Point21_Y  \n",
       "0  -0.068488  -0.264602  -0.054249  -0.181575  -0.055466  -0.128653  \n",
       "1  -0.052779  -0.257111  -0.040167  -0.167494  -0.040408  -0.110646  \n",
       "2  -0.096761  -0.221975  -0.089207  -0.164900  -0.080041  -0.118804  \n",
       "3  -0.107658  -0.301670  -0.078174  -0.204446  -0.072207  -0.136792  \n",
       "4  -0.108086  -0.303106  -0.079395  -0.207734  -0.070093  -0.138574  \n",
       "\n",
       "[5 rows x 41 columns]"
      ]
     },
     "execution_count": 18,
     "metadata": {},
     "output_type": "execute_result"
    }
   ],
   "source": [
    "df = pd.read_csv('./output/dataset.csv')\n",
    "df.head(5)"
   ]
  },
  {
   "cell_type": "code",
   "execution_count": 19,
   "metadata": {},
   "outputs": [],
   "source": [
    "# df.drop('No',axis=1,inplace=True)\n",
    "# df.info()"
   ]
  },
  {
   "cell_type": "code",
   "execution_count": 20,
   "metadata": {},
   "outputs": [
    {
     "data": {
      "text/plain": [
       "Class\n",
       "K        1002\n",
       "S        1002\n",
       "Y        1000\n",
       "Z         996\n",
       "O         995\n",
       "F         994\n",
       "P         992\n",
       "D         990\n",
       "R         988\n",
       "C         980\n",
       "I         972\n",
       "H         970\n",
       "Q         967\n",
       "M         964\n",
       "G         952\n",
       "T         942\n",
       "J         939\n",
       "V         928\n",
       "E         927\n",
       "U         921\n",
       "A         918\n",
       "X         915\n",
       "L         912\n",
       "B         900\n",
       "W         869\n",
       "space     855\n",
       "N         647\n",
       "Name: count, dtype: int64"
      ]
     },
     "execution_count": 20,
     "metadata": {},
     "output_type": "execute_result"
    }
   ],
   "source": [
    "df['Class'].value_counts()"
   ]
  },
  {
   "cell_type": "code",
   "execution_count": 21,
   "metadata": {},
   "outputs": [
    {
     "data": {
      "text/html": [
       "<style>#sk-container-id-1 {color: black;}#sk-container-id-1 pre{padding: 0;}#sk-container-id-1 div.sk-toggleable {background-color: white;}#sk-container-id-1 label.sk-toggleable__label {cursor: pointer;display: block;width: 100%;margin-bottom: 0;padding: 0.3em;box-sizing: border-box;text-align: center;}#sk-container-id-1 label.sk-toggleable__label-arrow:before {content: \"▸\";float: left;margin-right: 0.25em;color: #696969;}#sk-container-id-1 label.sk-toggleable__label-arrow:hover:before {color: black;}#sk-container-id-1 div.sk-estimator:hover label.sk-toggleable__label-arrow:before {color: black;}#sk-container-id-1 div.sk-toggleable__content {max-height: 0;max-width: 0;overflow: hidden;text-align: left;background-color: #f0f8ff;}#sk-container-id-1 div.sk-toggleable__content pre {margin: 0.2em;color: black;border-radius: 0.25em;background-color: #f0f8ff;}#sk-container-id-1 input.sk-toggleable__control:checked~div.sk-toggleable__content {max-height: 200px;max-width: 100%;overflow: auto;}#sk-container-id-1 input.sk-toggleable__control:checked~label.sk-toggleable__label-arrow:before {content: \"▾\";}#sk-container-id-1 div.sk-estimator input.sk-toggleable__control:checked~label.sk-toggleable__label {background-color: #d4ebff;}#sk-container-id-1 div.sk-label input.sk-toggleable__control:checked~label.sk-toggleable__label {background-color: #d4ebff;}#sk-container-id-1 input.sk-hidden--visually {border: 0;clip: rect(1px 1px 1px 1px);clip: rect(1px, 1px, 1px, 1px);height: 1px;margin: -1px;overflow: hidden;padding: 0;position: absolute;width: 1px;}#sk-container-id-1 div.sk-estimator {font-family: monospace;background-color: #f0f8ff;border: 1px dotted black;border-radius: 0.25em;box-sizing: border-box;margin-bottom: 0.5em;}#sk-container-id-1 div.sk-estimator:hover {background-color: #d4ebff;}#sk-container-id-1 div.sk-parallel-item::after {content: \"\";width: 100%;border-bottom: 1px solid gray;flex-grow: 1;}#sk-container-id-1 div.sk-label:hover label.sk-toggleable__label {background-color: #d4ebff;}#sk-container-id-1 div.sk-serial::before {content: \"\";position: absolute;border-left: 1px solid gray;box-sizing: border-box;top: 0;bottom: 0;left: 50%;z-index: 0;}#sk-container-id-1 div.sk-serial {display: flex;flex-direction: column;align-items: center;background-color: white;padding-right: 0.2em;padding-left: 0.2em;position: relative;}#sk-container-id-1 div.sk-item {position: relative;z-index: 1;}#sk-container-id-1 div.sk-parallel {display: flex;align-items: stretch;justify-content: center;background-color: white;position: relative;}#sk-container-id-1 div.sk-item::before, #sk-container-id-1 div.sk-parallel-item::before {content: \"\";position: absolute;border-left: 1px solid gray;box-sizing: border-box;top: 0;bottom: 0;left: 50%;z-index: -1;}#sk-container-id-1 div.sk-parallel-item {display: flex;flex-direction: column;z-index: 1;position: relative;background-color: white;}#sk-container-id-1 div.sk-parallel-item:first-child::after {align-self: flex-end;width: 50%;}#sk-container-id-1 div.sk-parallel-item:last-child::after {align-self: flex-start;width: 50%;}#sk-container-id-1 div.sk-parallel-item:only-child::after {width: 0;}#sk-container-id-1 div.sk-dashed-wrapped {border: 1px dashed gray;margin: 0 0.4em 0.5em 0.4em;box-sizing: border-box;padding-bottom: 0.4em;background-color: white;}#sk-container-id-1 div.sk-label label {font-family: monospace;font-weight: bold;display: inline-block;line-height: 1.2em;}#sk-container-id-1 div.sk-label-container {text-align: center;}#sk-container-id-1 div.sk-container {/* jupyter's `normalize.less` sets `[hidden] { display: none; }` but bootstrap.min.css set `[hidden] { display: none !important; }` so we also need the `!important` here to be able to override the default hidden behavior on the sphinx rendered scikit-learn.org. See: https://github.com/scikit-learn/scikit-learn/issues/21755 */display: inline-block !important;position: relative;}#sk-container-id-1 div.sk-text-repr-fallback {display: none;}</style><div id=\"sk-container-id-1\" class=\"sk-top-container\"><div class=\"sk-text-repr-fallback\"><pre>GridSearchCV(cv=StratifiedKFold(n_splits=10, random_state=42, shuffle=True),\n",
       "             estimator=Pipeline(steps=[(&#x27;smt&#x27;, SMOTE()), (&#x27;svm&#x27;, SVC())]),\n",
       "             param_grid={&#x27;svm__C&#x27;: [0.1, 1, 10, 100],\n",
       "                         &#x27;svm__gamma&#x27;: [1, 0.1, 0.01, 0.001],\n",
       "                         &#x27;svm__kernel&#x27;: [&#x27;linear&#x27;, &#x27;rbf&#x27;]},\n",
       "             scoring=&#x27;accuracy&#x27;)</pre><b>In a Jupyter environment, please rerun this cell to show the HTML representation or trust the notebook. <br />On GitHub, the HTML representation is unable to render, please try loading this page with nbviewer.org.</b></div><div class=\"sk-container\" hidden><div class=\"sk-item sk-dashed-wrapped\"><div class=\"sk-label-container\"><div class=\"sk-label sk-toggleable\"><input class=\"sk-toggleable__control sk-hidden--visually\" id=\"sk-estimator-id-1\" type=\"checkbox\" ><label for=\"sk-estimator-id-1\" class=\"sk-toggleable__label sk-toggleable__label-arrow\">GridSearchCV</label><div class=\"sk-toggleable__content\"><pre>GridSearchCV(cv=StratifiedKFold(n_splits=10, random_state=42, shuffle=True),\n",
       "             estimator=Pipeline(steps=[(&#x27;smt&#x27;, SMOTE()), (&#x27;svm&#x27;, SVC())]),\n",
       "             param_grid={&#x27;svm__C&#x27;: [0.1, 1, 10, 100],\n",
       "                         &#x27;svm__gamma&#x27;: [1, 0.1, 0.01, 0.001],\n",
       "                         &#x27;svm__kernel&#x27;: [&#x27;linear&#x27;, &#x27;rbf&#x27;]},\n",
       "             scoring=&#x27;accuracy&#x27;)</pre></div></div></div><div class=\"sk-parallel\"><div class=\"sk-parallel-item\"><div class=\"sk-item\"><div class=\"sk-label-container\"><div class=\"sk-label sk-toggleable\"><input class=\"sk-toggleable__control sk-hidden--visually\" id=\"sk-estimator-id-2\" type=\"checkbox\" ><label for=\"sk-estimator-id-2\" class=\"sk-toggleable__label sk-toggleable__label-arrow\">estimator: Pipeline</label><div class=\"sk-toggleable__content\"><pre>Pipeline(steps=[(&#x27;smt&#x27;, SMOTE()), (&#x27;svm&#x27;, SVC())])</pre></div></div></div><div class=\"sk-serial\"><div class=\"sk-item\"><div class=\"sk-serial\"><div class=\"sk-item\"><div class=\"sk-estimator sk-toggleable\"><input class=\"sk-toggleable__control sk-hidden--visually\" id=\"sk-estimator-id-3\" type=\"checkbox\" ><label for=\"sk-estimator-id-3\" class=\"sk-toggleable__label sk-toggleable__label-arrow\">SMOTE</label><div class=\"sk-toggleable__content\"><pre>SMOTE()</pre></div></div></div><div class=\"sk-item\"><div class=\"sk-estimator sk-toggleable\"><input class=\"sk-toggleable__control sk-hidden--visually\" id=\"sk-estimator-id-4\" type=\"checkbox\" ><label for=\"sk-estimator-id-4\" class=\"sk-toggleable__label sk-toggleable__label-arrow\">SVC</label><div class=\"sk-toggleable__content\"><pre>SVC()</pre></div></div></div></div></div></div></div></div></div></div></div></div>"
      ],
      "text/plain": [
       "GridSearchCV(cv=StratifiedKFold(n_splits=10, random_state=42, shuffle=True),\n",
       "             estimator=Pipeline(steps=[('smt', SMOTE()), ('svm', SVC())]),\n",
       "             param_grid={'svm__C': [0.1, 1, 10, 100],\n",
       "                         'svm__gamma': [1, 0.1, 0.01, 0.001],\n",
       "                         'svm__kernel': ['linear', 'rbf']},\n",
       "             scoring='accuracy')"
      ]
     },
     "execution_count": 21,
     "metadata": {},
     "output_type": "execute_result"
    }
   ],
   "source": [
    "X = df.drop('Class', axis=1)\n",
    "y = df['Class']\n",
    "\n",
    "X_train, X_test, y_train, y_test = train_test_split(X, y, test_size=0.2, random_state=42)\n",
    "\n",
    "smt = SMOTE()\n",
    "usm = RandomUnderSampler()\n",
    "\n",
    "cv = StratifiedKFold(n_splits=10, shuffle=True, random_state=42)\n",
    "svm = SVC()\n",
    "\n",
    "pipeline = Pipeline([('smt',smt), ('svm',svm)])\n",
    "# pipeline = Pipeline([('usm',usm), ('svm',svm)])\n",
    "param_grid = {\n",
    "    'svm__C': [0.1, 1, 10, 100],\n",
    "    'svm__gamma': [1, 0.1, 0.01, 0.001],\n",
    "    'svm__kernel': ['linear', 'rbf']\n",
    "}\n",
    "\n",
    "grid = GridSearchCV(pipeline,param_grid=param_grid, cv = cv, scoring='accuracy')\n",
    "\n",
    "grid.fit(X_train,y_train)\n",
    "\n",
    "\n"
   ]
  },
  {
   "cell_type": "code",
   "execution_count": 22,
   "metadata": {},
   "outputs": [
    {
     "name": "stdout",
     "output_type": "stream",
     "text": [
      "Best parameters found: {'svm__C': 100, 'svm__gamma': 1, 'svm__kernel': 'rbf'}\n",
      "Best cross-validation score: 0.9972480847702088\n",
      "              precision    recall  f1-score   support\n",
      "\n",
      "           A       0.99      1.00      1.00       175\n",
      "           B       1.00      1.00      1.00       167\n",
      "           C       1.00      1.00      1.00       185\n",
      "           D       0.99      0.99      0.99       191\n",
      "           E       1.00      1.00      1.00       211\n",
      "           F       0.99      1.00      0.99       202\n",
      "           G       1.00      1.00      1.00       191\n",
      "           H       1.00      1.00      1.00       204\n",
      "           I       1.00      0.99      0.99       191\n",
      "           J       1.00      0.97      0.99       186\n",
      "           K       1.00      1.00      1.00       201\n",
      "           L       1.00      0.99      1.00       178\n",
      "           M       0.99      1.00      1.00       175\n",
      "           N       1.00      0.99      1.00       128\n",
      "           O       0.98      1.00      0.99       217\n",
      "           P       1.00      0.99      1.00       184\n",
      "           Q       0.99      1.00      1.00       202\n",
      "           R       0.99      0.99      0.99       231\n",
      "           S       1.00      1.00      1.00       187\n",
      "           T       1.00      0.99      0.99       198\n",
      "           U       1.00      0.99      1.00       198\n",
      "           V       1.00      1.00      1.00       169\n",
      "           W       1.00      0.98      0.99       173\n",
      "           X       1.00      1.00      1.00       159\n",
      "           Y       1.00      1.00      1.00       221\n",
      "           Z       0.99      1.00      1.00       201\n",
      "       space       0.98      1.00      0.99       163\n",
      "\n",
      "    accuracy                           1.00      5088\n",
      "   macro avg       1.00      1.00      1.00      5088\n",
      "weighted avg       1.00      1.00      1.00      5088\n",
      "\n"
     ]
    }
   ],
   "source": [
    "best_model = grid.best_estimator_\n",
    "y_pred = best_model.predict(X_test)\n",
    "\n",
    "print(f\"Best parameters found: {grid.best_params_}\")\n",
    "print(f\"Best cross-validation score: {grid.best_score_}\")\n",
    "\n",
    "print(classification_report(y_test, y_pred))"
   ]
  },
  {
   "cell_type": "code",
   "execution_count": 23,
   "metadata": {},
   "outputs": [
    {
     "data": {
      "text/plain": [
       "<Axes: >"
      ]
     },
     "execution_count": 23,
     "metadata": {},
     "output_type": "execute_result"
    },
    {
     "data": {
      "image/png": "[encoded data removed]",
      "text/plain": [
       "<Figure size 640x480 with 2 Axes>"
      ]
     },
     "metadata": {},
     "output_type": "display_data"
    }
   ],
   "source": [
    "matrix_kebingungan = confusion_matrix(y_pred, y_test)\n",
    "\n",
    "sns.heatmap(matrix_kebingungan)"
   ]
  },
  {
   "cell_type": "code",
   "execution_count": 24,
   "metadata": {},
   "outputs": [
    {
     "name": "stdout",
     "output_type": "stream",
     "text": [
      "Model saved to ./output/model.pkl\n"
     ]
    }
   ],
   "source": [
    "model_filename = './output/model.pkl'\n",
    "with open(model_filename, 'wb') as file:\n",
    "    pickle.dump(best_model, file)\n",
    "\n",
    "print(f\"Model saved to {model_filename}\")"
   ]
  }
 ],
 "metadata": {
  "kernelspec": {
   "display_name": "deep_learning",
   "language": "python",
   "name": "python3"
  },
  "language_info": {
   "codemirror_mode": {
    "name": "ipython",
    "version": 3
   },
   "file_extension": ".py",
   "mimetype": "text/x-python",
   "name": "python",
   "nbconvert_exporter": "python",
   "pygments_lexer": "ipython3",
   "version": "3.10.9"
  }
 },
 "nbformat": 4,
 "nbformat_minor": 2
}
